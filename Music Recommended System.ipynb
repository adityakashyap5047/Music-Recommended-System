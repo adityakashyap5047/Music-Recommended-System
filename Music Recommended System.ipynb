{
 "cells": [
  {
   "cell_type": "code",
   "execution_count": 1,
   "id": "f5e6e52c",
   "metadata": {},
   "outputs": [],
   "source": [
    "!pip install kaggle -q"
   ]
  },
  {
   "cell_type": "code",
   "execution_count": 2,
   "id": "3a67c8b2",
   "metadata": {},
   "outputs": [],
   "source": [
    "# importing the dependencies\n",
    "import os\n",
    "import json\n",
    "\n",
    "import zipfile\n",
    "import numpy as np  \n",
    "import pandas as pd\n",
    "import matplotlib.pyplot as plt\n",
    "from sklearn.feature_extraction.text import TfidfVectorizer\n",
    "from sklearn.metrics.pairwise import cosine_similarity\n",
    "from wordcloud import WordCloud\n",
    "import re\n",
    "from nltk.corpus import stopwords\n",
    "from nltk.tokenize import word_tokenize"
   ]
  },
  {
   "cell_type": "code",
   "execution_count": 3,
   "id": "eb13a154",
   "metadata": {},
   "outputs": [],
   "source": [
    "### Data Collection\n",
    "kaggle_config = json.load(open(\"kaggle.json\"))"
   ]
  },
  {
   "cell_type": "code",
   "execution_count": 4,
   "id": "1a647e7b",
   "metadata": {},
   "outputs": [
    {
     "data": {
      "text/plain": [
       "dict_keys(['username', 'key'])"
      ]
     },
     "execution_count": 4,
     "metadata": {},
     "output_type": "execute_result"
    }
   ],
   "source": [
    "kaggle_config.keys()"
   ]
  },
  {
   "cell_type": "code",
   "execution_count": 5,
   "id": "fb349b5e",
   "metadata": {},
   "outputs": [],
   "source": [
    "### Set the environment variables\n",
    "os.environ['KAGGLE_USERNAME'] = kaggle_config['username']\n",
    "os.environ['KAGGLE_KEY'] = kaggle_config['key']"
   ]
  },
  {
   "cell_type": "code",
   "execution_count": 6,
   "id": "0b734667",
   "metadata": {},
   "outputs": [
    {
     "name": "stdout",
     "output_type": "stream",
     "text": [
      "Dataset URL: https://www.kaggle.com/datasets/notshrirang/spotify-million-song-dataset\n",
      "License(s): CC0-1.0\n"
     ]
    }
   ],
   "source": [
    "### Loading the dataset using kaggle API\n",
    "!kaggle datasets download notshrirang/spotify-million-song-dataset"
   ]
  },
  {
   "cell_type": "code",
   "execution_count": 7,
   "id": "3f14c541",
   "metadata": {},
   "outputs": [
    {
     "name": "stdout",
     "output_type": "stream",
     "text": [
      "Music Recommended System.ipynb\n",
      "README.md\n",
      "kaggle.json\n",
      "spotify-million-song-dataset.zip\n"
     ]
    }
   ],
   "source": [
    "!ls"
   ]
  },
  {
   "cell_type": "code",
   "execution_count": 8,
   "id": "6ddcc978",
   "metadata": {},
   "outputs": [],
   "source": [
    "with zipfile.ZipFile('spotify-million-song-dataset.zip', 'r') as zip_ref:\n",
    "    zip_ref.extractall()"
   ]
  },
  {
   "cell_type": "code",
   "execution_count": null,
   "id": "497b9014",
   "metadata": {},
   "outputs": [],
   "source": []
  }
 ],
 "metadata": {
  "kernelspec": {
   "display_name": "Python 3",
   "language": "python",
   "name": "python3"
  },
  "language_info": {
   "codemirror_mode": {
    "name": "ipython",
    "version": 3
   },
   "file_extension": ".py",
   "mimetype": "text/x-python",
   "name": "python",
   "nbconvert_exporter": "python",
   "pygments_lexer": "ipython3",
   "version": "3.11.0"
  }
 },
 "nbformat": 4,
 "nbformat_minor": 5
}
